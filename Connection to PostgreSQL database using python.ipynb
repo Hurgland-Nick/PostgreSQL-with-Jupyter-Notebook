{
 "cells": [
  {
   "cell_type": "markdown",
   "metadata": {},
   "source": [
    "                                                                                                Hurgland-Nick KELIET"
   ]
  },
  {
   "cell_type": "markdown",
   "metadata": {},
   "source": [
    "                                       Connection to PostgreSQL database using python"
   ]
  },
  {
   "cell_type": "markdown",
   "metadata": {},
   "source": [
    "# Connection\n",
    "\n"
   ]
  },
  {
   "cell_type": "code",
   "execution_count": 2,
   "metadata": {},
   "outputs": [],
   "source": [
    "# We use the psycopg2 library to connect to Postgre \n",
    "import psycopg2\n",
    "\n",
    "connection = psycopg2.connect(dbname = \"postgres\", user = \"postgres\", password = 'password')\n",
    "cursor = connection.cursor()\n",
    "cursor.execute(\"Create table notes(id integer PRIMARY KEY, body text, title text);\")"
   ]
  },
  {
   "cell_type": "markdown",
   "metadata": {},
   "source": [
    "# Command SQL SHELL\n",
    "\n",
    "- Close the shell :\n",
    "    - **\\q** or **quit**\n",
    "    \n",
    "- Create database\n",
    "    - **CREATE DATABASE db_name**\n",
    "    \n",
    "- Command liste help\n",
    "    - **\\\\?**\n",
    "    \n",
    "- All database list\n",
    "    - **\\\\l**\n",
    "\n",
    "- Table list & role\n",
    "    - **\\\\dt**\n",
    "    \n",
    "- User list\n",
    "    - **\\\\du**\n",
    "    \n",
    "- Create role without Login\n",
    "    - **CREATE ROLE role_name;**\n",
    "\n",
    "- Create role with Login\n",
    "    - **CREATE ROLE role_name with Login;**\n",
    "    \n",
    "- Create role with Login and password\n",
    "    - **CREATE ROLE role_name with Login PASSWORD 'password';**\n",
    "\n",
    "- Create role with Login and password & many\n",
    "    - **CREATE ROLE role_name with CREATEDB CREATEROLE SUPERUSER Login PASSWORD 'password';**\n",
    "    \n",
    "- SEE acces PRIVILEGES\n",
    "    - **\\\\du**\n",
    "    \n",
    "- ADD permissions instance SELECT, INSERT, UPDATE right or write \"ALL PRIVILEGES\" to have all\n",
    "    - **GRANT SELECT,INSERT,UPDATE ON table_name TO user_name;**\n",
    "    \n",
    "- REVOKE permissions instance SELECT, INSERT, UPDATE right or write \"ALL PRIVILEGES\" to have all\n",
    "    - **REVOKE SELECT,INSERT,UPDATE ON table_name FROM user_name;**\n",
    "    \n",
    "- DELETE USER(ROLE)\n",
    "    - **DROP ROLE user_name;**\n",
    "\n",
    "- DELETE TABLE same with DATABASE\n",
    "    - **DROP TABLE table_name;**\n"
   ]
  },
  {
   "cell_type": "markdown",
   "metadata": {},
   "source": [
    "                                                                                                                END"
   ]
  }
 ],
 "metadata": {
  "kernelspec": {
   "display_name": "Python 3",
   "language": "python",
   "name": "python3"
  },
  "language_info": {
   "codemirror_mode": {
    "name": "ipython",
    "version": 3
   },
   "file_extension": ".py",
   "mimetype": "text/x-python",
   "name": "python",
   "nbconvert_exporter": "python",
   "pygments_lexer": "ipython3",
   "version": "3.6.9"
  }
 },
 "nbformat": 4,
 "nbformat_minor": 2
}
